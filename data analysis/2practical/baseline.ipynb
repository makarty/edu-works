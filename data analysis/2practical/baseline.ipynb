{
 "cells": [
  {
   "cell_type": "markdown",
   "metadata": {},
   "source": [
    "# <center>Бинарная классификация и отправка на Kaggle"
   ]
  },
  {
   "cell_type": "markdown",
   "metadata": {},
   "source": [
    "5. Во вкладке Data будут данные, на которых будем обучать модель и проверять нашу модель на test выборке. В файле sample_submission пример отправленного решения. \n",
    "Приступим к решению. Рассмотрим на примере варианта из пункта b"
   ]
  },
  {
   "cell_type": "code",
   "execution_count": 4,
   "metadata": {},
   "outputs": [],
   "source": [
    "import pandas as pd\n",
    "import numpy as np\n",
    "import matplotlib.pyplot as plt\n",
    "import warnings\n",
    "\n",
    "from sklearn.neighbors import KNeighborsClassifier\n",
    "from xgboost import XGBClassifier\n",
    "from sklearn.model_selection import train_test_split\n",
    "warnings.filterwarnings(\"ignore\")"
   ]
  },
  {
   "cell_type": "code",
   "execution_count": 5,
   "metadata": {},
   "outputs": [],
   "source": [
    "train = pd.read_csv(\"data/train.csv\")\n",
    "test = pd.read_csv(\"data/test.csv\")"
   ]
  },
  {
   "cell_type": "markdown",
   "metadata": {},
   "source": [
    "### Посмотрим на данные"
   ]
  },
  {
   "cell_type": "code",
   "execution_count": 6,
   "metadata": {},
   "outputs": [
    {
     "data": {
      "text/html": [
       "<div>\n",
       "<style scoped>\n",
       "    .dataframe tbody tr th:only-of-type {\n",
       "        vertical-align: middle;\n",
       "    }\n",
       "\n",
       "    .dataframe tbody tr th {\n",
       "        vertical-align: top;\n",
       "    }\n",
       "\n",
       "    .dataframe thead th {\n",
       "        text-align: right;\n",
       "    }\n",
       "</style>\n",
       "<table border=\"1\" class=\"dataframe\">\n",
       "  <thead>\n",
       "    <tr style=\"text-align: right;\">\n",
       "      <th></th>\n",
       "      <th>id</th>\n",
       "      <th>ClientPeriod</th>\n",
       "      <th>MonthlySpending</th>\n",
       "      <th>TotalSpent</th>\n",
       "      <th>Sex</th>\n",
       "      <th>IsSeniorCitizen</th>\n",
       "      <th>HasPartner</th>\n",
       "      <th>HasChild</th>\n",
       "      <th>HasPhoneService</th>\n",
       "      <th>HasMultiplePhoneNumbers</th>\n",
       "      <th>...</th>\n",
       "      <th>HasOnlineSecurityService</th>\n",
       "      <th>HasOnlineBackup</th>\n",
       "      <th>HasDeviceProtection</th>\n",
       "      <th>HasTechSupportAccess</th>\n",
       "      <th>HasOnlineTV</th>\n",
       "      <th>HasMovieSubscription</th>\n",
       "      <th>HasContractPhone</th>\n",
       "      <th>IsBillingPaperless</th>\n",
       "      <th>PaymentMethod</th>\n",
       "      <th>Churn</th>\n",
       "    </tr>\n",
       "  </thead>\n",
       "  <tbody>\n",
       "    <tr>\n",
       "      <th>0</th>\n",
       "      <td>4719</td>\n",
       "      <td>28</td>\n",
       "      <td>20.30</td>\n",
       "      <td>487.95</td>\n",
       "      <td>Male</td>\n",
       "      <td>0</td>\n",
       "      <td>Yes</td>\n",
       "      <td>Yes</td>\n",
       "      <td>Yes</td>\n",
       "      <td>No</td>\n",
       "      <td>...</td>\n",
       "      <td>No internet service</td>\n",
       "      <td>No internet service</td>\n",
       "      <td>No internet service</td>\n",
       "      <td>No internet service</td>\n",
       "      <td>No internet service</td>\n",
       "      <td>No internet service</td>\n",
       "      <td>Two year</td>\n",
       "      <td>Yes</td>\n",
       "      <td>Credit card (automatic)</td>\n",
       "      <td>0</td>\n",
       "    </tr>\n",
       "    <tr>\n",
       "      <th>1</th>\n",
       "      <td>3190</td>\n",
       "      <td>12</td>\n",
       "      <td>81.45</td>\n",
       "      <td>912</td>\n",
       "      <td>Male</td>\n",
       "      <td>0</td>\n",
       "      <td>No</td>\n",
       "      <td>No</td>\n",
       "      <td>Yes</td>\n",
       "      <td>No</td>\n",
       "      <td>...</td>\n",
       "      <td>No</td>\n",
       "      <td>No</td>\n",
       "      <td>No</td>\n",
       "      <td>No</td>\n",
       "      <td>Yes</td>\n",
       "      <td>No</td>\n",
       "      <td>Month-to-month</td>\n",
       "      <td>Yes</td>\n",
       "      <td>Electronic check</td>\n",
       "      <td>0</td>\n",
       "    </tr>\n",
       "    <tr>\n",
       "      <th>2</th>\n",
       "      <td>5215</td>\n",
       "      <td>25</td>\n",
       "      <td>20.15</td>\n",
       "      <td>536.35</td>\n",
       "      <td>Male</td>\n",
       "      <td>0</td>\n",
       "      <td>No</td>\n",
       "      <td>No</td>\n",
       "      <td>Yes</td>\n",
       "      <td>No</td>\n",
       "      <td>...</td>\n",
       "      <td>No internet service</td>\n",
       "      <td>No internet service</td>\n",
       "      <td>No internet service</td>\n",
       "      <td>No internet service</td>\n",
       "      <td>No internet service</td>\n",
       "      <td>No internet service</td>\n",
       "      <td>Month-to-month</td>\n",
       "      <td>Yes</td>\n",
       "      <td>Mailed check</td>\n",
       "      <td>0</td>\n",
       "    </tr>\n",
       "    <tr>\n",
       "      <th>3</th>\n",
       "      <td>1472</td>\n",
       "      <td>50</td>\n",
       "      <td>69.50</td>\n",
       "      <td>3418.2</td>\n",
       "      <td>Male</td>\n",
       "      <td>0</td>\n",
       "      <td>No</td>\n",
       "      <td>No</td>\n",
       "      <td>Yes</td>\n",
       "      <td>Yes</td>\n",
       "      <td>...</td>\n",
       "      <td>No</td>\n",
       "      <td>No</td>\n",
       "      <td>Yes</td>\n",
       "      <td>Yes</td>\n",
       "      <td>No</td>\n",
       "      <td>Yes</td>\n",
       "      <td>Two year</td>\n",
       "      <td>No</td>\n",
       "      <td>Bank transfer (automatic)</td>\n",
       "      <td>0</td>\n",
       "    </tr>\n",
       "    <tr>\n",
       "      <th>4</th>\n",
       "      <td>4413</td>\n",
       "      <td>39</td>\n",
       "      <td>101.25</td>\n",
       "      <td>3949.15</td>\n",
       "      <td>Female</td>\n",
       "      <td>1</td>\n",
       "      <td>Yes</td>\n",
       "      <td>No</td>\n",
       "      <td>Yes</td>\n",
       "      <td>Yes</td>\n",
       "      <td>...</td>\n",
       "      <td>No</td>\n",
       "      <td>No</td>\n",
       "      <td>No</td>\n",
       "      <td>Yes</td>\n",
       "      <td>Yes</td>\n",
       "      <td>Yes</td>\n",
       "      <td>Month-to-month</td>\n",
       "      <td>Yes</td>\n",
       "      <td>Electronic check</td>\n",
       "      <td>0</td>\n",
       "    </tr>\n",
       "    <tr>\n",
       "      <th>...</th>\n",
       "      <td>...</td>\n",
       "      <td>...</td>\n",
       "      <td>...</td>\n",
       "      <td>...</td>\n",
       "      <td>...</td>\n",
       "      <td>...</td>\n",
       "      <td>...</td>\n",
       "      <td>...</td>\n",
       "      <td>...</td>\n",
       "      <td>...</td>\n",
       "      <td>...</td>\n",
       "      <td>...</td>\n",
       "      <td>...</td>\n",
       "      <td>...</td>\n",
       "      <td>...</td>\n",
       "      <td>...</td>\n",
       "      <td>...</td>\n",
       "      <td>...</td>\n",
       "      <td>...</td>\n",
       "      <td>...</td>\n",
       "      <td>...</td>\n",
       "    </tr>\n",
       "    <tr>\n",
       "      <th>3164</th>\n",
       "      <td>3483</td>\n",
       "      <td>2</td>\n",
       "      <td>79.95</td>\n",
       "      <td>174.45</td>\n",
       "      <td>Male</td>\n",
       "      <td>0</td>\n",
       "      <td>No</td>\n",
       "      <td>No</td>\n",
       "      <td>Yes</td>\n",
       "      <td>No</td>\n",
       "      <td>...</td>\n",
       "      <td>No</td>\n",
       "      <td>No</td>\n",
       "      <td>No</td>\n",
       "      <td>No</td>\n",
       "      <td>Yes</td>\n",
       "      <td>No</td>\n",
       "      <td>Month-to-month</td>\n",
       "      <td>Yes</td>\n",
       "      <td>Electronic check</td>\n",
       "      <td>0</td>\n",
       "    </tr>\n",
       "    <tr>\n",
       "      <th>3165</th>\n",
       "      <td>3555</td>\n",
       "      <td>16</td>\n",
       "      <td>73.85</td>\n",
       "      <td>1284.2</td>\n",
       "      <td>Male</td>\n",
       "      <td>0</td>\n",
       "      <td>Yes</td>\n",
       "      <td>No</td>\n",
       "      <td>Yes</td>\n",
       "      <td>Yes</td>\n",
       "      <td>...</td>\n",
       "      <td>No</td>\n",
       "      <td>No</td>\n",
       "      <td>No</td>\n",
       "      <td>No</td>\n",
       "      <td>No</td>\n",
       "      <td>No</td>\n",
       "      <td>Month-to-month</td>\n",
       "      <td>Yes</td>\n",
       "      <td>Bank transfer (automatic)</td>\n",
       "      <td>1</td>\n",
       "    </tr>\n",
       "    <tr>\n",
       "      <th>3166</th>\n",
       "      <td>2292</td>\n",
       "      <td>50</td>\n",
       "      <td>70.35</td>\n",
       "      <td>3454.6</td>\n",
       "      <td>Male</td>\n",
       "      <td>1</td>\n",
       "      <td>No</td>\n",
       "      <td>No</td>\n",
       "      <td>Yes</td>\n",
       "      <td>Yes</td>\n",
       "      <td>...</td>\n",
       "      <td>Yes</td>\n",
       "      <td>Yes</td>\n",
       "      <td>No</td>\n",
       "      <td>No</td>\n",
       "      <td>Yes</td>\n",
       "      <td>No</td>\n",
       "      <td>Month-to-month</td>\n",
       "      <td>Yes</td>\n",
       "      <td>Bank transfer (automatic)</td>\n",
       "      <td>0</td>\n",
       "    </tr>\n",
       "    <tr>\n",
       "      <th>3167</th>\n",
       "      <td>960</td>\n",
       "      <td>54</td>\n",
       "      <td>55.00</td>\n",
       "      <td>3092.65</td>\n",
       "      <td>Male</td>\n",
       "      <td>0</td>\n",
       "      <td>No</td>\n",
       "      <td>Yes</td>\n",
       "      <td>Yes</td>\n",
       "      <td>Yes</td>\n",
       "      <td>...</td>\n",
       "      <td>No</td>\n",
       "      <td>Yes</td>\n",
       "      <td>No</td>\n",
       "      <td>No</td>\n",
       "      <td>No</td>\n",
       "      <td>No</td>\n",
       "      <td>Month-to-month</td>\n",
       "      <td>Yes</td>\n",
       "      <td>Credit card (automatic)</td>\n",
       "      <td>1</td>\n",
       "    </tr>\n",
       "    <tr>\n",
       "      <th>3168</th>\n",
       "      <td>3600</td>\n",
       "      <td>14</td>\n",
       "      <td>78.85</td>\n",
       "      <td>1043.8</td>\n",
       "      <td>Female</td>\n",
       "      <td>1</td>\n",
       "      <td>No</td>\n",
       "      <td>No</td>\n",
       "      <td>Yes</td>\n",
       "      <td>No</td>\n",
       "      <td>...</td>\n",
       "      <td>Yes</td>\n",
       "      <td>Yes</td>\n",
       "      <td>No</td>\n",
       "      <td>No</td>\n",
       "      <td>No</td>\n",
       "      <td>No</td>\n",
       "      <td>Month-to-month</td>\n",
       "      <td>No</td>\n",
       "      <td>Electronic check</td>\n",
       "      <td>0</td>\n",
       "    </tr>\n",
       "  </tbody>\n",
       "</table>\n",
       "<p>3169 rows × 21 columns</p>\n",
       "</div>"
      ],
      "text/plain": [
       "        id  ClientPeriod  MonthlySpending TotalSpent     Sex  IsSeniorCitizen  \\\n",
       "0     4719            28            20.30     487.95    Male                0   \n",
       "1     3190            12            81.45        912    Male                0   \n",
       "2     5215            25            20.15     536.35    Male                0   \n",
       "3     1472            50            69.50     3418.2    Male                0   \n",
       "4     4413            39           101.25    3949.15  Female                1   \n",
       "...    ...           ...              ...        ...     ...              ...   \n",
       "3164  3483             2            79.95     174.45    Male                0   \n",
       "3165  3555            16            73.85     1284.2    Male                0   \n",
       "3166  2292            50            70.35     3454.6    Male                1   \n",
       "3167   960            54            55.00    3092.65    Male                0   \n",
       "3168  3600            14            78.85     1043.8  Female                1   \n",
       "\n",
       "     HasPartner HasChild HasPhoneService HasMultiplePhoneNumbers  ...  \\\n",
       "0           Yes      Yes             Yes                      No  ...   \n",
       "1            No       No             Yes                      No  ...   \n",
       "2            No       No             Yes                      No  ...   \n",
       "3            No       No             Yes                     Yes  ...   \n",
       "4           Yes       No             Yes                     Yes  ...   \n",
       "...         ...      ...             ...                     ...  ...   \n",
       "3164         No       No             Yes                      No  ...   \n",
       "3165        Yes       No             Yes                     Yes  ...   \n",
       "3166         No       No             Yes                     Yes  ...   \n",
       "3167         No      Yes             Yes                     Yes  ...   \n",
       "3168         No       No             Yes                      No  ...   \n",
       "\n",
       "     HasOnlineSecurityService      HasOnlineBackup  HasDeviceProtection  \\\n",
       "0         No internet service  No internet service  No internet service   \n",
       "1                          No                   No                   No   \n",
       "2         No internet service  No internet service  No internet service   \n",
       "3                          No                   No                  Yes   \n",
       "4                          No                   No                   No   \n",
       "...                       ...                  ...                  ...   \n",
       "3164                       No                   No                   No   \n",
       "3165                       No                   No                   No   \n",
       "3166                      Yes                  Yes                   No   \n",
       "3167                       No                  Yes                   No   \n",
       "3168                      Yes                  Yes                   No   \n",
       "\n",
       "     HasTechSupportAccess          HasOnlineTV HasMovieSubscription  \\\n",
       "0     No internet service  No internet service  No internet service   \n",
       "1                      No                  Yes                   No   \n",
       "2     No internet service  No internet service  No internet service   \n",
       "3                     Yes                   No                  Yes   \n",
       "4                     Yes                  Yes                  Yes   \n",
       "...                   ...                  ...                  ...   \n",
       "3164                   No                  Yes                   No   \n",
       "3165                   No                   No                   No   \n",
       "3166                   No                  Yes                   No   \n",
       "3167                   No                   No                   No   \n",
       "3168                   No                   No                   No   \n",
       "\n",
       "     HasContractPhone IsBillingPaperless              PaymentMethod Churn  \n",
       "0            Two year                Yes    Credit card (automatic)     0  \n",
       "1      Month-to-month                Yes           Electronic check     0  \n",
       "2      Month-to-month                Yes               Mailed check     0  \n",
       "3            Two year                 No  Bank transfer (automatic)     0  \n",
       "4      Month-to-month                Yes           Electronic check     0  \n",
       "...               ...                ...                        ...   ...  \n",
       "3164   Month-to-month                Yes           Electronic check     0  \n",
       "3165   Month-to-month                Yes  Bank transfer (automatic)     1  \n",
       "3166   Month-to-month                Yes  Bank transfer (automatic)     0  \n",
       "3167   Month-to-month                Yes    Credit card (automatic)     1  \n",
       "3168   Month-to-month                 No           Electronic check     0  \n",
       "\n",
       "[3169 rows x 21 columns]"
      ]
     },
     "execution_count": 6,
     "metadata": {},
     "output_type": "execute_result"
    }
   ],
   "source": [
    "train"
   ]
  },
  {
   "cell_type": "code",
   "execution_count": 7,
   "metadata": {},
   "outputs": [
    {
     "data": {
      "text/html": [
       "<div>\n",
       "<style scoped>\n",
       "    .dataframe tbody tr th:only-of-type {\n",
       "        vertical-align: middle;\n",
       "    }\n",
       "\n",
       "    .dataframe tbody tr th {\n",
       "        vertical-align: top;\n",
       "    }\n",
       "\n",
       "    .dataframe thead th {\n",
       "        text-align: right;\n",
       "    }\n",
       "</style>\n",
       "<table border=\"1\" class=\"dataframe\">\n",
       "  <thead>\n",
       "    <tr style=\"text-align: right;\">\n",
       "      <th></th>\n",
       "      <th>id</th>\n",
       "      <th>ClientPeriod</th>\n",
       "      <th>MonthlySpending</th>\n",
       "      <th>TotalSpent</th>\n",
       "      <th>Sex</th>\n",
       "      <th>IsSeniorCitizen</th>\n",
       "      <th>HasPartner</th>\n",
       "      <th>HasChild</th>\n",
       "      <th>HasPhoneService</th>\n",
       "      <th>HasMultiplePhoneNumbers</th>\n",
       "      <th>HasInternetService</th>\n",
       "      <th>HasOnlineSecurityService</th>\n",
       "      <th>HasOnlineBackup</th>\n",
       "      <th>HasDeviceProtection</th>\n",
       "      <th>HasTechSupportAccess</th>\n",
       "      <th>HasOnlineTV</th>\n",
       "      <th>HasMovieSubscription</th>\n",
       "      <th>HasContractPhone</th>\n",
       "      <th>IsBillingPaperless</th>\n",
       "      <th>PaymentMethod</th>\n",
       "    </tr>\n",
       "  </thead>\n",
       "  <tbody>\n",
       "    <tr>\n",
       "      <th>0</th>\n",
       "      <td>2258</td>\n",
       "      <td>46</td>\n",
       "      <td>55.65</td>\n",
       "      <td>2688.85</td>\n",
       "      <td>Female</td>\n",
       "      <td>0</td>\n",
       "      <td>No</td>\n",
       "      <td>No</td>\n",
       "      <td>Yes</td>\n",
       "      <td>No</td>\n",
       "      <td>DSL</td>\n",
       "      <td>No</td>\n",
       "      <td>No</td>\n",
       "      <td>No</td>\n",
       "      <td>No</td>\n",
       "      <td>No</td>\n",
       "      <td>Yes</td>\n",
       "      <td>One year</td>\n",
       "      <td>No</td>\n",
       "      <td>Credit card (automatic)</td>\n",
       "    </tr>\n",
       "    <tr>\n",
       "      <th>1</th>\n",
       "      <td>3864</td>\n",
       "      <td>48</td>\n",
       "      <td>78.75</td>\n",
       "      <td>3682.45</td>\n",
       "      <td>Male</td>\n",
       "      <td>0</td>\n",
       "      <td>No</td>\n",
       "      <td>Yes</td>\n",
       "      <td>Yes</td>\n",
       "      <td>Yes</td>\n",
       "      <td>DSL</td>\n",
       "      <td>Yes</td>\n",
       "      <td>No</td>\n",
       "      <td>Yes</td>\n",
       "      <td>No</td>\n",
       "      <td>Yes</td>\n",
       "      <td>Yes</td>\n",
       "      <td>One year</td>\n",
       "      <td>Yes</td>\n",
       "      <td>Credit card (automatic)</td>\n",
       "    </tr>\n",
       "    <tr>\n",
       "      <th>2</th>\n",
       "      <td>1391</td>\n",
       "      <td>7</td>\n",
       "      <td>69.20</td>\n",
       "      <td>477.55</td>\n",
       "      <td>Female</td>\n",
       "      <td>0</td>\n",
       "      <td>Yes</td>\n",
       "      <td>No</td>\n",
       "      <td>Yes</td>\n",
       "      <td>No</td>\n",
       "      <td>Fiber optic</td>\n",
       "      <td>No</td>\n",
       "      <td>No</td>\n",
       "      <td>No</td>\n",
       "      <td>No</td>\n",
       "      <td>No</td>\n",
       "      <td>No</td>\n",
       "      <td>Month-to-month</td>\n",
       "      <td>Yes</td>\n",
       "      <td>Bank transfer (automatic)</td>\n",
       "    </tr>\n",
       "    <tr>\n",
       "      <th>3</th>\n",
       "      <td>486</td>\n",
       "      <td>3</td>\n",
       "      <td>75.15</td>\n",
       "      <td>216.75</td>\n",
       "      <td>Female</td>\n",
       "      <td>0</td>\n",
       "      <td>Yes</td>\n",
       "      <td>No</td>\n",
       "      <td>Yes</td>\n",
       "      <td>Yes</td>\n",
       "      <td>Fiber optic</td>\n",
       "      <td>No</td>\n",
       "      <td>No</td>\n",
       "      <td>No</td>\n",
       "      <td>No</td>\n",
       "      <td>No</td>\n",
       "      <td>No</td>\n",
       "      <td>Month-to-month</td>\n",
       "      <td>Yes</td>\n",
       "      <td>Credit card (automatic)</td>\n",
       "    </tr>\n",
       "    <tr>\n",
       "      <th>4</th>\n",
       "      <td>970</td>\n",
       "      <td>14</td>\n",
       "      <td>19.35</td>\n",
       "      <td>324.8</td>\n",
       "      <td>Male</td>\n",
       "      <td>0</td>\n",
       "      <td>No</td>\n",
       "      <td>No</td>\n",
       "      <td>Yes</td>\n",
       "      <td>No</td>\n",
       "      <td>No</td>\n",
       "      <td>No internet service</td>\n",
       "      <td>No internet service</td>\n",
       "      <td>No internet service</td>\n",
       "      <td>No internet service</td>\n",
       "      <td>No internet service</td>\n",
       "      <td>No internet service</td>\n",
       "      <td>One year</td>\n",
       "      <td>No</td>\n",
       "      <td>Mailed check</td>\n",
       "    </tr>\n",
       "  </tbody>\n",
       "</table>\n",
       "</div>"
      ],
      "text/plain": [
       "     id  ClientPeriod  MonthlySpending TotalSpent     Sex  IsSeniorCitizen  \\\n",
       "0  2258            46            55.65    2688.85  Female                0   \n",
       "1  3864            48            78.75    3682.45    Male                0   \n",
       "2  1391             7            69.20     477.55  Female                0   \n",
       "3   486             3            75.15     216.75  Female                0   \n",
       "4   970            14            19.35      324.8    Male                0   \n",
       "\n",
       "  HasPartner HasChild HasPhoneService HasMultiplePhoneNumbers  \\\n",
       "0         No       No             Yes                      No   \n",
       "1         No      Yes             Yes                     Yes   \n",
       "2        Yes       No             Yes                      No   \n",
       "3        Yes       No             Yes                     Yes   \n",
       "4         No       No             Yes                      No   \n",
       "\n",
       "  HasInternetService HasOnlineSecurityService      HasOnlineBackup  \\\n",
       "0                DSL                       No                   No   \n",
       "1                DSL                      Yes                   No   \n",
       "2        Fiber optic                       No                   No   \n",
       "3        Fiber optic                       No                   No   \n",
       "4                 No      No internet service  No internet service   \n",
       "\n",
       "   HasDeviceProtection HasTechSupportAccess          HasOnlineTV  \\\n",
       "0                   No                   No                   No   \n",
       "1                  Yes                   No                  Yes   \n",
       "2                   No                   No                   No   \n",
       "3                   No                   No                   No   \n",
       "4  No internet service  No internet service  No internet service   \n",
       "\n",
       "  HasMovieSubscription HasContractPhone IsBillingPaperless  \\\n",
       "0                  Yes         One year                 No   \n",
       "1                  Yes         One year                Yes   \n",
       "2                   No   Month-to-month                Yes   \n",
       "3                   No   Month-to-month                Yes   \n",
       "4  No internet service         One year                 No   \n",
       "\n",
       "               PaymentMethod  \n",
       "0    Credit card (automatic)  \n",
       "1    Credit card (automatic)  \n",
       "2  Bank transfer (automatic)  \n",
       "3    Credit card (automatic)  \n",
       "4               Mailed check  "
      ]
     },
     "execution_count": 7,
     "metadata": {},
     "output_type": "execute_result"
    }
   ],
   "source": [
    "test.head()"
   ]
  },
  {
   "cell_type": "markdown",
   "metadata": {},
   "source": [
    "Датасеты train и test отличаются толькой одной колонкой - той, что надо предсказать. \n",
    "Посмотрим на количество пропусков в каждой колонке"
   ]
  },
  {
   "cell_type": "code",
   "execution_count": 8,
   "metadata": {},
   "outputs": [
    {
     "data": {
      "text/plain": [
       "0"
      ]
     },
     "execution_count": 8,
     "metadata": {},
     "output_type": "execute_result"
    }
   ],
   "source": [
    "train.isna().any(axis=1).sum()"
   ]
  },
  {
   "cell_type": "code",
   "execution_count": 9,
   "metadata": {},
   "outputs": [
    {
     "data": {
      "text/plain": [
       "0"
      ]
     },
     "execution_count": 9,
     "metadata": {},
     "output_type": "execute_result"
    }
   ],
   "source": [
    "test.isna().any(axis=1).sum()"
   ]
  },
  {
   "cell_type": "markdown",
   "metadata": {},
   "source": [
    "Вообще, isna находит не все пропуски. \n",
    "Например, если внезапно численная переменная вдруг становится строкой - это звоночек, что там есть какие-то проблемы.\n",
    "Поэтому рекомендуется у строк, которые не являются численными (int64, float64), выводить уникальные значения. \n",
    "Там и можно обнаружить пропуски"
   ]
  },
  {
   "cell_type": "markdown",
   "metadata": {},
   "source": [
    "### Посмотрим на тип данных каждой из колонок"
   ]
  },
  {
   "cell_type": "code",
   "execution_count": 10,
   "metadata": {},
   "outputs": [
    {
     "name": "stdout",
     "output_type": "stream",
     "text": [
      "<class 'pandas.core.frame.DataFrame'>\n",
      "RangeIndex: 3169 entries, 0 to 3168\n",
      "Data columns (total 21 columns):\n",
      " #   Column                    Non-Null Count  Dtype  \n",
      "---  ------                    --------------  -----  \n",
      " 0   id                        3169 non-null   int64  \n",
      " 1   ClientPeriod              3169 non-null   int64  \n",
      " 2   MonthlySpending           3169 non-null   float64\n",
      " 3   TotalSpent                3169 non-null   object \n",
      " 4   Sex                       3169 non-null   object \n",
      " 5   IsSeniorCitizen           3169 non-null   int64  \n",
      " 6   HasPartner                3169 non-null   object \n",
      " 7   HasChild                  3169 non-null   object \n",
      " 8   HasPhoneService           3169 non-null   object \n",
      " 9   HasMultiplePhoneNumbers   3169 non-null   object \n",
      " 10  HasInternetService        3169 non-null   object \n",
      " 11  HasOnlineSecurityService  3169 non-null   object \n",
      " 12  HasOnlineBackup           3169 non-null   object \n",
      " 13  HasDeviceProtection       3169 non-null   object \n",
      " 14  HasTechSupportAccess      3169 non-null   object \n",
      " 15  HasOnlineTV               3169 non-null   object \n",
      " 16  HasMovieSubscription      3169 non-null   object \n",
      " 17  HasContractPhone          3169 non-null   object \n",
      " 18  IsBillingPaperless        3169 non-null   object \n",
      " 19  PaymentMethod             3169 non-null   object \n",
      " 20  Churn                     3169 non-null   int64  \n",
      "dtypes: float64(1), int64(4), object(16)\n",
      "memory usage: 520.0+ KB\n"
     ]
    }
   ],
   "source": [
    "train.info()"
   ]
  },
  {
   "cell_type": "code",
   "execution_count": 11,
   "metadata": {},
   "outputs": [
    {
     "data": {
      "text/html": [
       "<div>\n",
       "<style scoped>\n",
       "    .dataframe tbody tr th:only-of-type {\n",
       "        vertical-align: middle;\n",
       "    }\n",
       "\n",
       "    .dataframe tbody tr th {\n",
       "        vertical-align: top;\n",
       "    }\n",
       "\n",
       "    .dataframe thead th {\n",
       "        text-align: right;\n",
       "    }\n",
       "</style>\n",
       "<table border=\"1\" class=\"dataframe\">\n",
       "  <thead>\n",
       "    <tr style=\"text-align: right;\">\n",
       "      <th></th>\n",
       "      <th>id</th>\n",
       "      <th>ClientPeriod</th>\n",
       "      <th>MonthlySpending</th>\n",
       "      <th>IsSeniorCitizen</th>\n",
       "      <th>Churn</th>\n",
       "    </tr>\n",
       "  </thead>\n",
       "  <tbody>\n",
       "    <tr>\n",
       "      <th>count</th>\n",
       "      <td>3169.000000</td>\n",
       "      <td>3169.000000</td>\n",
       "      <td>3169.000000</td>\n",
       "      <td>3169.000000</td>\n",
       "      <td>3169.000000</td>\n",
       "    </tr>\n",
       "    <tr>\n",
       "      <th>mean</th>\n",
       "      <td>2658.504891</td>\n",
       "      <td>31.855790</td>\n",
       "      <td>65.157715</td>\n",
       "      <td>0.162512</td>\n",
       "      <td>0.265068</td>\n",
       "    </tr>\n",
       "    <tr>\n",
       "      <th>std</th>\n",
       "      <td>1536.114959</td>\n",
       "      <td>24.471827</td>\n",
       "      <td>29.921808</td>\n",
       "      <td>0.368978</td>\n",
       "      <td>0.441439</td>\n",
       "    </tr>\n",
       "    <tr>\n",
       "      <th>min</th>\n",
       "      <td>1.000000</td>\n",
       "      <td>0.000000</td>\n",
       "      <td>18.250000</td>\n",
       "      <td>0.000000</td>\n",
       "      <td>0.000000</td>\n",
       "    </tr>\n",
       "    <tr>\n",
       "      <th>25%</th>\n",
       "      <td>1330.000000</td>\n",
       "      <td>8.000000</td>\n",
       "      <td>39.200000</td>\n",
       "      <td>0.000000</td>\n",
       "      <td>0.000000</td>\n",
       "    </tr>\n",
       "    <tr>\n",
       "      <th>50%</th>\n",
       "      <td>2635.000000</td>\n",
       "      <td>28.000000</td>\n",
       "      <td>70.700000</td>\n",
       "      <td>0.000000</td>\n",
       "      <td>0.000000</td>\n",
       "    </tr>\n",
       "    <tr>\n",
       "      <th>75%</th>\n",
       "      <td>4027.000000</td>\n",
       "      <td>54.000000</td>\n",
       "      <td>89.850000</td>\n",
       "      <td>0.000000</td>\n",
       "      <td>1.000000</td>\n",
       "    </tr>\n",
       "    <tr>\n",
       "      <th>max</th>\n",
       "      <td>5279.000000</td>\n",
       "      <td>72.000000</td>\n",
       "      <td>118.650000</td>\n",
       "      <td>1.000000</td>\n",
       "      <td>1.000000</td>\n",
       "    </tr>\n",
       "  </tbody>\n",
       "</table>\n",
       "</div>"
      ],
      "text/plain": [
       "                id  ClientPeriod  MonthlySpending  IsSeniorCitizen  \\\n",
       "count  3169.000000   3169.000000      3169.000000      3169.000000   \n",
       "mean   2658.504891     31.855790        65.157715         0.162512   \n",
       "std    1536.114959     24.471827        29.921808         0.368978   \n",
       "min       1.000000      0.000000        18.250000         0.000000   \n",
       "25%    1330.000000      8.000000        39.200000         0.000000   \n",
       "50%    2635.000000     28.000000        70.700000         0.000000   \n",
       "75%    4027.000000     54.000000        89.850000         0.000000   \n",
       "max    5279.000000     72.000000       118.650000         1.000000   \n",
       "\n",
       "             Churn  \n",
       "count  3169.000000  \n",
       "mean      0.265068  \n",
       "std       0.441439  \n",
       "min       0.000000  \n",
       "25%       0.000000  \n",
       "50%       0.000000  \n",
       "75%       1.000000  \n",
       "max       1.000000  "
      ]
     },
     "execution_count": 11,
     "metadata": {},
     "output_type": "execute_result"
    }
   ],
   "source": [
    "train.describe()"
   ]
  },
  {
   "cell_type": "code",
   "execution_count": 12,
   "metadata": {},
   "outputs": [],
   "source": [
    "# здесь есть ловушка, поищите\n",
    "# Числовые признаки\n",
    "num_cols = [\n",
    "    'ClientPeriod',\n",
    "    'MonthlySpending',\n",
    "    'IsSeniorCitizen'\n",
    "]\n",
    "\n",
    "# Категориальные признаки\n",
    "cat_cols = [\n",
    "    'Sex',\n",
    "    'HasPartner',\n",
    "    'TotalSpent',\n",
    "    'HasChild',\n",
    "    'HasPhoneService',\n",
    "    'HasMultiplePhoneNumbers',\n",
    "    'HasInternetService',\n",
    "    'HasOnlineSecurityService',\n",
    "    'HasOnlineBackup',\n",
    "    'HasDeviceProtection',\n",
    "    'HasTechSupportAccess',\n",
    "    'HasOnlineTV',\n",
    "    'HasMovieSubscription',\n",
    "    'HasContractPhone',\n",
    "    'IsBillingPaperless',\n",
    "    'PaymentMethod'\n",
    "]\n",
    "\n",
    "feature_cols = num_cols\n",
    "target_col = 'Churn'"
   ]
  },
  {
   "cell_type": "markdown",
   "metadata": {},
   "source": [
    "В sklearn большинство моделей не обрабатывают категориальные признаки.\n",
    "А у нас они есть... поэтому вспоминаем первую практическую и обрабатываем категориальные признаки.\n",
    "Также, мы применяли one-hot encoding к категориальным признакам, потому что с label-encoding в случае 3 и более значений образовывались операции +- над категориями. \n",
    "Но вспомним, что после one-hot encoding мы получали бинарные данные, а некоторые из признаков и так уже бинарные.\n",
    "\n",
    "А еще можно обрабатывать числовые признаки. Можно же?"
   ]
  },
  {
   "cell_type": "markdown",
   "metadata": {},
   "source": [
    "## Обработка"
   ]
  },
  {
   "cell_type": "code",
   "execution_count": 13,
   "metadata": {},
   "outputs": [
    {
     "name": "stdout",
     "output_type": "stream",
     "text": [
      "Sex - ['Male' 'Female']\n",
      "HasPartner - ['Yes' 'No']\n",
      "TotalSpent - ['487.95' '912' '536.35' ... '3454.6' '3092.65' '1043.8']\n",
      "HasChild - ['Yes' 'No']\n",
      "HasPhoneService - ['Yes' 'No']\n",
      "HasMultiplePhoneNumbers - ['No' 'Yes' 'No phone service']\n",
      "HasInternetService - ['No' 'Fiber optic' 'DSL']\n",
      "HasOnlineSecurityService - ['No internet service' 'No' 'Yes']\n",
      "HasOnlineBackup - ['No internet service' 'No' 'Yes']\n",
      "HasDeviceProtection - ['No internet service' 'No' 'Yes']\n",
      "HasTechSupportAccess - ['No internet service' 'No' 'Yes']\n",
      "HasOnlineTV - ['No internet service' 'Yes' 'No']\n",
      "HasMovieSubscription - ['No internet service' 'No' 'Yes']\n",
      "HasContractPhone - ['Two year' 'Month-to-month' 'One year']\n",
      "IsBillingPaperless - ['Yes' 'No']\n",
      "PaymentMethod - ['Credit card (automatic)' 'Electronic check' 'Mailed check'\n",
      " 'Bank transfer (automatic)']\n"
     ]
    }
   ],
   "source": [
    "for i in cat_cols:\n",
    "    print(f'{i} - {train[i].unique()}')"
   ]
  },
  {
   "cell_type": "markdown",
   "metadata": {},
   "source": [
    "Видим что столбец TotalSpent является числовым"
   ]
  },
  {
   "cell_type": "code",
   "execution_count": 14,
   "metadata": {},
   "outputs": [],
   "source": [
    "def num_unique(data: pd.core.frame.DataFrame, column: str) -> set:\n",
    "    \"\"\"\n",
    "    Функция поиска уникальных значений среди чисел\n",
    "    :param data: датафрейм\n",
    "    :type data: pd.core.frame.DataFrame\n",
    "    :param column: название столбца\n",
    "    :type column: str\n",
    "    :return: множество уникальных значений\n",
    "    :rtype: set\n",
    "    \"\"\"\n",
    "    nan = set()\n",
    "    for item in data[column]:\n",
    "        if not ('.' or ',') in item and not item.isdigit():\n",
    "            nan.add(item)\n",
    "    return nan\n"
   ]
  },
  {
   "cell_type": "code",
   "execution_count": 15,
   "metadata": {},
   "outputs": [
    {
     "data": {
      "text/plain": [
       "{' '}"
      ]
     },
     "execution_count": 15,
     "metadata": {},
     "output_type": "execute_result"
    }
   ],
   "source": [
    "num_unique(train, 'TotalSpent')"
   ]
  },
  {
   "cell_type": "markdown",
   "metadata": {},
   "source": [
    "Заменяем нечисловые значения и приводим к float"
   ]
  },
  {
   "cell_type": "code",
   "execution_count": 49,
   "metadata": {},
   "outputs": [],
   "source": [
    "train['TotalSpent'] = train['TotalSpent'].replace({' ': np.nan})\n",
    "train['TotalSpent'] = train['TotalSpent'].astype(float)\n",
    "test['TotalSpent'] = test['TotalSpent'].replace({' ': np.nan})\n",
    "test['TotalSpent'] = test['TotalSpent'].astype(float)\n",
    "\n",
    "if 'TotalSpent' not in num_cols:\n",
    "    num_cols.append('TotalSpent')\n",
    "if 'TotalSpent' in cat_cols:\n",
    "    cat_cols.remove('TotalSpent')\n"
   ]
  },
  {
   "cell_type": "code",
   "execution_count": 17,
   "metadata": {},
   "outputs": [
    {
     "name": "stdout",
     "output_type": "stream",
     "text": [
      "<class 'pandas.core.frame.DataFrame'>\n",
      "RangeIndex: 3169 entries, 0 to 3168\n",
      "Data columns (total 21 columns):\n",
      " #   Column                    Non-Null Count  Dtype  \n",
      "---  ------                    --------------  -----  \n",
      " 0   id                        3169 non-null   int64  \n",
      " 1   ClientPeriod              3169 non-null   int64  \n",
      " 2   MonthlySpending           3169 non-null   float64\n",
      " 3   TotalSpent                3163 non-null   float64\n",
      " 4   Sex                       3169 non-null   object \n",
      " 5   IsSeniorCitizen           3169 non-null   int64  \n",
      " 6   HasPartner                3169 non-null   object \n",
      " 7   HasChild                  3169 non-null   object \n",
      " 8   HasPhoneService           3169 non-null   object \n",
      " 9   HasMultiplePhoneNumbers   3169 non-null   object \n",
      " 10  HasInternetService        3169 non-null   object \n",
      " 11  HasOnlineSecurityService  3169 non-null   object \n",
      " 12  HasOnlineBackup           3169 non-null   object \n",
      " 13  HasDeviceProtection       3169 non-null   object \n",
      " 14  HasTechSupportAccess      3169 non-null   object \n",
      " 15  HasOnlineTV               3169 non-null   object \n",
      " 16  HasMovieSubscription      3169 non-null   object \n",
      " 17  HasContractPhone          3169 non-null   object \n",
      " 18  IsBillingPaperless        3169 non-null   object \n",
      " 19  PaymentMethod             3169 non-null   object \n",
      " 20  Churn                     3169 non-null   int64  \n",
      "dtypes: float64(2), int64(4), object(15)\n",
      "memory usage: 520.0+ KB\n"
     ]
    }
   ],
   "source": [
    "train.info()"
   ]
  },
  {
   "cell_type": "code",
   "execution_count": 18,
   "metadata": {},
   "outputs": [],
   "source": [
    "x = train[num_cols]\n",
    "y = train[target_col]"
   ]
  },
  {
   "cell_type": "markdown",
   "metadata": {},
   "source": [
    "Посмотрим на распеределение значения целевой переменной"
   ]
  },
  {
   "cell_type": "code",
   "execution_count": 19,
   "metadata": {
    "scrolled": true
   },
   "outputs": [
    {
     "data": {
      "image/png": "[encoded data removed]",
      "text/plain": [
       "<Figure size 432x288 with 1 Axes>"
      ]
     },
     "metadata": {
      "needs_background": "light"
     },
     "output_type": "display_data"
    }
   ],
   "source": [
    "y.hist()\n",
    "plt.show()"
   ]
  },
  {
   "cell_type": "markdown",
   "metadata": {},
   "source": [
    "Можем заметить, что Y несбалансирован.\n",
    "Поэтому предсказательную способность модели будем оценивать по метрике ROC-AUC.\n",
    "Так же воспользуемся воспользуем разделением данных на тренировочную и валидационную выборку."
   ]
  },
  {
   "cell_type": "code",
   "execution_count": 20,
   "metadata": {},
   "outputs": [],
   "source": [
    "x_train, x_val, y_train, y_val = train_test_split(x, y, train_size=0.7)"
   ]
  },
  {
   "cell_type": "markdown",
   "metadata": {},
   "source": [
    "Проверим наличие NaN"
   ]
  },
  {
   "cell_type": "code",
   "execution_count": 37,
   "metadata": {},
   "outputs": [
    {
     "name": "stdout",
     "output_type": "stream",
     "text": [
      "Количество NaN в x_train: 0\n",
      "Количество NaN в y_train: 0\n",
      "Количество NaN в x_val: 2\n",
      "Количество NaN в y_val: 0\n"
     ]
    }
   ],
   "source": [
    "print(f'Количество NaN в x_train: {x_train.isna().any(axis=1).sum()}')\n",
    "print(f'Количество NaN в y_train: {y_train.isna().sum()}')\n",
    "print(f'Количество NaN в x_val: {x_val.isna().any(axis=1).sum()}')\n",
    "print(f'Количество NaN в y_val: {y_val.isna().sum()}')\n"
   ]
  },
  {
   "cell_type": "markdown",
   "metadata": {},
   "source": [
    "Заменим NaN значения"
   ]
  },
  {
   "cell_type": "code",
   "execution_count": 41,
   "metadata": {},
   "outputs": [],
   "source": [
    "x_train = x_train.fillna(x_train.mean())\n",
    "x_val = x_val.fillna(x_val.mean())"
   ]
  },
  {
   "cell_type": "markdown",
   "metadata": {},
   "source": [
    "Удостоверимся, что избавились от всех NaN"
   ]
  },
  {
   "cell_type": "code",
   "execution_count": 42,
   "metadata": {},
   "outputs": [
    {
     "name": "stdout",
     "output_type": "stream",
     "text": [
      "Количество NaN в x_train: 0\n",
      "Количество NaN в x_val: 0\n"
     ]
    }
   ],
   "source": [
    "print(f'Количество NaN в x_train: {x_train.isna().any(axis=1).sum()}')\n",
    "print(f'Количество NaN в x_val: {x_val.isna().any(axis=1).sum()}')"
   ]
  },
  {
   "cell_type": "code",
   "execution_count": 43,
   "metadata": {},
   "outputs": [
    {
     "data": {
      "text/plain": [
       "KNeighborsClassifier()"
      ]
     },
     "execution_count": 43,
     "metadata": {},
     "output_type": "execute_result"
    }
   ],
   "source": [
    "knn = KNeighborsClassifier()\n",
    "knn.fit(x_train, y_train)"
   ]
  },
  {
   "cell_type": "markdown",
   "metadata": {},
   "source": [
    "### Посмотрим на получившийся результат и построим график для ROC-AUC. Обратите внимаение, что мы предсказываем колонку 'Churn' с помощью метода predict_proba(), а почему не обычный predict() ответите на защите"
   ]
  },
  {
   "cell_type": "code",
   "execution_count": 33,
   "metadata": {},
   "outputs": [],
   "source": [
    "from sklearn.metrics import roc_auc_score, roc_curve\n",
    "import numpy as np"
   ]
  },
  {
   "cell_type": "code",
   "execution_count": 44,
   "metadata": {},
   "outputs": [],
   "source": [
    "y_train_predicted_knn = knn.predict_proba(x_train)[:, 1]\n",
    "y_val_predicted_knn = knn.predict_proba(x_val)[:, 1]"
   ]
  },
  {
   "cell_type": "code",
   "execution_count": 45,
   "metadata": {},
   "outputs": [],
   "source": [
    "def roc_auc_plot(y_train, y_train_predicted, y_val, y_val_predicted) -> None:\n",
    "    train_auc = roc_auc_score(y_train, y_train_predicted)\n",
    "    test_auc = roc_auc_score(y_val, y_val_predicted)\n",
    "\n",
    "    plt.figure(figsize=(10,7))\n",
    "    plt.plot(*roc_curve(y_train, y_train_predicted)[:2], label='train AUC={:.4f}'.format(train_auc))\n",
    "    plt.plot(*roc_curve(y_val, y_val_predicted)[:2], label='test AUC={:.4f}'.format(test_auc))\n",
    "    legend_box = plt.legend(fontsize='large', framealpha=1).get_frame()\n",
    "    legend_box.set_facecolor(\"white\")\n",
    "    legend_box.set_edgecolor(\"black\")\n",
    "    plt.plot(np.linspace(0,1,100), np.linspace(0,1,100))\n",
    "    plt.show()"
   ]
  },
  {
   "cell_type": "code",
   "execution_count": 46,
   "metadata": {},
   "outputs": [
    {
     "data": {
      "image/png": "[encoded data removed]",
      "text/plain": [
       "<Figure size 720x504 with 1 Axes>"
      ]
     },
     "metadata": {
      "needs_background": "light"
     },
     "output_type": "display_data"
    }
   ],
   "source": [
    "roc_auc_plot(y_train, y_train_predicted_knn, y_val, y_val_predicted_knn)"
   ]
  },
  {
   "cell_type": "markdown",
   "metadata": {},
   "source": [
    "Модель обучили теперь можно и предсказать колонку 'Churn' для test"
   ]
  },
  {
   "cell_type": "code",
   "execution_count": 50,
   "metadata": {},
   "outputs": [
    {
     "name": "stdout",
     "output_type": "stream",
     "text": [
      "<class 'pandas.core.frame.DataFrame'>\n",
      "RangeIndex: 2113 entries, 0 to 2112\n",
      "Data columns (total 4 columns):\n",
      " #   Column           Non-Null Count  Dtype  \n",
      "---  ------           --------------  -----  \n",
      " 0   ClientPeriod     2113 non-null   int64  \n",
      " 1   MonthlySpending  2113 non-null   float64\n",
      " 2   IsSeniorCitizen  2113 non-null   int64  \n",
      " 3   TotalSpent       2110 non-null   float64\n",
      "dtypes: float64(2), int64(2)\n",
      "memory usage: 66.2 KB\n"
     ]
    }
   ],
   "source": [
    "test.info()"
   ]
  },
  {
   "cell_type": "code",
   "execution_count": 51,
   "metadata": {},
   "outputs": [
    {
     "ename": "KeyError",
     "evalue": "'id'",
     "output_type": "error",
     "traceback": [
      "\u001b[1;31m---------------------------------------------------------------------------\u001b[0m",
      "\u001b[1;31mKeyError\u001b[0m                                  Traceback (most recent call last)",
      "File \u001b[1;32m~\\AppData\\Local\\Programs\\Python\\Python39\\lib\\site-packages\\pandas\\core\\indexes\\base.py:3621\u001b[0m, in \u001b[0;36mIndex.get_loc\u001b[1;34m(self, key, method, tolerance)\u001b[0m\n\u001b[0;32m   <a href='file:///c%3A/Users/artma/AppData/Local/Programs/Python/Python39/lib/site-packages/pandas/core/indexes/base.py?line=3619'>3620</a>\u001b[0m \u001b[39mtry\u001b[39;00m:\n\u001b[1;32m-> <a href='file:///c%3A/Users/artma/AppData/Local/Programs/Python/Python39/lib/site-packages/pandas/core/indexes/base.py?line=3620'>3621</a>\u001b[0m     \u001b[39mreturn\u001b[39;00m \u001b[39mself\u001b[39;49m\u001b[39m.\u001b[39;49m_engine\u001b[39m.\u001b[39;49mget_loc(casted_key)\n\u001b[0;32m   <a href='file:///c%3A/Users/artma/AppData/Local/Programs/Python/Python39/lib/site-packages/pandas/core/indexes/base.py?line=3621'>3622</a>\u001b[0m \u001b[39mexcept\u001b[39;00m \u001b[39mKeyError\u001b[39;00m \u001b[39mas\u001b[39;00m err:\n",
      "File \u001b[1;32m~\\AppData\\Local\\Programs\\Python\\Python39\\lib\\site-packages\\pandas\\_libs\\index.pyx:136\u001b[0m, in \u001b[0;36mpandas._libs.index.IndexEngine.get_loc\u001b[1;34m()\u001b[0m\n",
      "File \u001b[1;32m~\\AppData\\Local\\Programs\\Python\\Python39\\lib\\site-packages\\pandas\\_libs\\index.pyx:163\u001b[0m, in \u001b[0;36mpandas._libs.index.IndexEngine.get_loc\u001b[1;34m()\u001b[0m\n",
      "File \u001b[1;32mpandas\\_libs\\hashtable_class_helper.pxi:5198\u001b[0m, in \u001b[0;36mpandas._libs.hashtable.PyObjectHashTable.get_item\u001b[1;34m()\u001b[0m\n",
      "File \u001b[1;32mpandas\\_libs\\hashtable_class_helper.pxi:5206\u001b[0m, in \u001b[0;36mpandas._libs.hashtable.PyObjectHashTable.get_item\u001b[1;34m()\u001b[0m\n",
      "\u001b[1;31mKeyError\u001b[0m: 'id'",
      "\nThe above exception was the direct cause of the following exception:\n",
      "\u001b[1;31mKeyError\u001b[0m                                  Traceback (most recent call last)",
      "\u001b[1;32mc:\\Users\\artma\\Desktop\\Folder\\Git\\edu-works\\data analysis\\2practical\\baseline.ipynb Cell 44'\u001b[0m in \u001b[0;36m<module>\u001b[1;34m\u001b[0m\n\u001b[0;32m      <a href='vscode-notebook-cell:/c%3A/Users/artma/Desktop/Folder/Git/edu-works/data%20analysis/2practical/baseline.ipynb#ch0000035?line=0'>1</a>\u001b[0m \u001b[39m# сохраним колонку с id, для файла с ответом\u001b[39;00m\n\u001b[1;32m----> <a href='vscode-notebook-cell:/c%3A/Users/artma/Desktop/Folder/Git/edu-works/data%20analysis/2practical/baseline.ipynb#ch0000035?line=1'>2</a>\u001b[0m test_id \u001b[39m=\u001b[39m test[\u001b[39m'\u001b[39;49m\u001b[39mid\u001b[39;49m\u001b[39m'\u001b[39;49m]\n\u001b[0;32m      <a href='vscode-notebook-cell:/c%3A/Users/artma/Desktop/Folder/Git/edu-works/data%20analysis/2practical/baseline.ipynb#ch0000035?line=2'>3</a>\u001b[0m test \u001b[39m=\u001b[39m test[num_cols]\n\u001b[0;32m      <a href='vscode-notebook-cell:/c%3A/Users/artma/Desktop/Folder/Git/edu-works/data%20analysis/2practical/baseline.ipynb#ch0000035?line=3'>4</a>\u001b[0m y_test_predicted_knn \u001b[39m=\u001b[39m knn\u001b[39m.\u001b[39mpredict_proba(test)[:, \u001b[39m1\u001b[39m]\n",
      "File \u001b[1;32m~\\AppData\\Local\\Programs\\Python\\Python39\\lib\\site-packages\\pandas\\core\\frame.py:3506\u001b[0m, in \u001b[0;36mDataFrame.__getitem__\u001b[1;34m(self, key)\u001b[0m\n\u001b[0;32m   <a href='file:///c%3A/Users/artma/AppData/Local/Programs/Python/Python39/lib/site-packages/pandas/core/frame.py?line=3503'>3504</a>\u001b[0m \u001b[39mif\u001b[39;00m \u001b[39mself\u001b[39m\u001b[39m.\u001b[39mcolumns\u001b[39m.\u001b[39mnlevels \u001b[39m>\u001b[39m \u001b[39m1\u001b[39m:\n\u001b[0;32m   <a href='file:///c%3A/Users/artma/AppData/Local/Programs/Python/Python39/lib/site-packages/pandas/core/frame.py?line=3504'>3505</a>\u001b[0m     \u001b[39mreturn\u001b[39;00m \u001b[39mself\u001b[39m\u001b[39m.\u001b[39m_getitem_multilevel(key)\n\u001b[1;32m-> <a href='file:///c%3A/Users/artma/AppData/Local/Programs/Python/Python39/lib/site-packages/pandas/core/frame.py?line=3505'>3506</a>\u001b[0m indexer \u001b[39m=\u001b[39m \u001b[39mself\u001b[39;49m\u001b[39m.\u001b[39;49mcolumns\u001b[39m.\u001b[39;49mget_loc(key)\n\u001b[0;32m   <a href='file:///c%3A/Users/artma/AppData/Local/Programs/Python/Python39/lib/site-packages/pandas/core/frame.py?line=3506'>3507</a>\u001b[0m \u001b[39mif\u001b[39;00m is_integer(indexer):\n\u001b[0;32m   <a href='file:///c%3A/Users/artma/AppData/Local/Programs/Python/Python39/lib/site-packages/pandas/core/frame.py?line=3507'>3508</a>\u001b[0m     indexer \u001b[39m=\u001b[39m [indexer]\n",
      "File \u001b[1;32m~\\AppData\\Local\\Programs\\Python\\Python39\\lib\\site-packages\\pandas\\core\\indexes\\base.py:3623\u001b[0m, in \u001b[0;36mIndex.get_loc\u001b[1;34m(self, key, method, tolerance)\u001b[0m\n\u001b[0;32m   <a href='file:///c%3A/Users/artma/AppData/Local/Programs/Python/Python39/lib/site-packages/pandas/core/indexes/base.py?line=3620'>3621</a>\u001b[0m     \u001b[39mreturn\u001b[39;00m \u001b[39mself\u001b[39m\u001b[39m.\u001b[39m_engine\u001b[39m.\u001b[39mget_loc(casted_key)\n\u001b[0;32m   <a href='file:///c%3A/Users/artma/AppData/Local/Programs/Python/Python39/lib/site-packages/pandas/core/indexes/base.py?line=3621'>3622</a>\u001b[0m \u001b[39mexcept\u001b[39;00m \u001b[39mKeyError\u001b[39;00m \u001b[39mas\u001b[39;00m err:\n\u001b[1;32m-> <a href='file:///c%3A/Users/artma/AppData/Local/Programs/Python/Python39/lib/site-packages/pandas/core/indexes/base.py?line=3622'>3623</a>\u001b[0m     \u001b[39mraise\u001b[39;00m \u001b[39mKeyError\u001b[39;00m(key) \u001b[39mfrom\u001b[39;00m \u001b[39merr\u001b[39;00m\n\u001b[0;32m   <a href='file:///c%3A/Users/artma/AppData/Local/Programs/Python/Python39/lib/site-packages/pandas/core/indexes/base.py?line=3623'>3624</a>\u001b[0m \u001b[39mexcept\u001b[39;00m \u001b[39mTypeError\u001b[39;00m:\n\u001b[0;32m   <a href='file:///c%3A/Users/artma/AppData/Local/Programs/Python/Python39/lib/site-packages/pandas/core/indexes/base.py?line=3624'>3625</a>\u001b[0m     \u001b[39m# If we have a listlike key, _check_indexing_error will raise\u001b[39;00m\n\u001b[0;32m   <a href='file:///c%3A/Users/artma/AppData/Local/Programs/Python/Python39/lib/site-packages/pandas/core/indexes/base.py?line=3625'>3626</a>\u001b[0m     \u001b[39m#  InvalidIndexError. Otherwise we fall through and re-raise\u001b[39;00m\n\u001b[0;32m   <a href='file:///c%3A/Users/artma/AppData/Local/Programs/Python/Python39/lib/site-packages/pandas/core/indexes/base.py?line=3626'>3627</a>\u001b[0m     \u001b[39m#  the TypeError.\u001b[39;00m\n\u001b[0;32m   <a href='file:///c%3A/Users/artma/AppData/Local/Programs/Python/Python39/lib/site-packages/pandas/core/indexes/base.py?line=3627'>3628</a>\u001b[0m     \u001b[39mself\u001b[39m\u001b[39m.\u001b[39m_check_indexing_error(key)\n",
      "\u001b[1;31mKeyError\u001b[0m: 'id'"
     ]
    }
   ],
   "source": [
    "# сохраним колонку с id, для файла с ответом\n",
    "test_id = test['id']\n",
    "test = test[num_cols]\n",
    "y_test_predicted_knn = knn.predict_proba(test)[:, 1]"
   ]
  },
  {
   "cell_type": "code",
   "execution_count": 89,
   "metadata": {},
   "outputs": [],
   "source": [
    "def create_submission(id_col, y_pred):\n",
    "    submission = pd.DataFrame({\n",
    "        'id': id_col,\n",
    "        'Churn': y_pred\n",
    "    })\n",
    "    return submission"
   ]
  },
  {
   "cell_type": "code",
   "execution_count": 90,
   "metadata": {},
   "outputs": [],
   "source": [
    "sub = create_submission(test_id, y_test_predicted_knn)"
   ]
  },
  {
   "cell_type": "code",
   "execution_count": 91,
   "metadata": {},
   "outputs": [
    {
     "data": {
      "text/html": [
       "<div>\n",
       "<style scoped>\n",
       "    .dataframe tbody tr th:only-of-type {\n",
       "        vertical-align: middle;\n",
       "    }\n",
       "\n",
       "    .dataframe tbody tr th {\n",
       "        vertical-align: top;\n",
       "    }\n",
       "\n",
       "    .dataframe thead th {\n",
       "        text-align: right;\n",
       "    }\n",
       "</style>\n",
       "<table border=\"1\" class=\"dataframe\">\n",
       "  <thead>\n",
       "    <tr style=\"text-align: right;\">\n",
       "      <th></th>\n",
       "      <th>id</th>\n",
       "      <th>Churn</th>\n",
       "    </tr>\n",
       "  </thead>\n",
       "  <tbody>\n",
       "    <tr>\n",
       "      <th>0</th>\n",
       "      <td>2258</td>\n",
       "      <td>0.0</td>\n",
       "    </tr>\n",
       "    <tr>\n",
       "      <th>1</th>\n",
       "      <td>3864</td>\n",
       "      <td>0.0</td>\n",
       "    </tr>\n",
       "    <tr>\n",
       "      <th>2</th>\n",
       "      <td>1391</td>\n",
       "      <td>0.2</td>\n",
       "    </tr>\n",
       "    <tr>\n",
       "      <th>3</th>\n",
       "      <td>486</td>\n",
       "      <td>0.4</td>\n",
       "    </tr>\n",
       "    <tr>\n",
       "      <th>4</th>\n",
       "      <td>970</td>\n",
       "      <td>0.2</td>\n",
       "    </tr>\n",
       "    <tr>\n",
       "      <th>...</th>\n",
       "      <td>...</td>\n",
       "      <td>...</td>\n",
       "    </tr>\n",
       "    <tr>\n",
       "      <th>2108</th>\n",
       "      <td>1700</td>\n",
       "      <td>0.2</td>\n",
       "    </tr>\n",
       "    <tr>\n",
       "      <th>2109</th>\n",
       "      <td>1865</td>\n",
       "      <td>0.0</td>\n",
       "    </tr>\n",
       "    <tr>\n",
       "      <th>2110</th>\n",
       "      <td>478</td>\n",
       "      <td>0.0</td>\n",
       "    </tr>\n",
       "    <tr>\n",
       "      <th>2111</th>\n",
       "      <td>1227</td>\n",
       "      <td>0.6</td>\n",
       "    </tr>\n",
       "    <tr>\n",
       "      <th>2112</th>\n",
       "      <td>4538</td>\n",
       "      <td>0.0</td>\n",
       "    </tr>\n",
       "  </tbody>\n",
       "</table>\n",
       "<p>2113 rows × 2 columns</p>\n",
       "</div>"
      ],
      "text/plain": [
       "        id  Churn\n",
       "0     2258    0.0\n",
       "1     3864    0.0\n",
       "2     1391    0.2\n",
       "3      486    0.4\n",
       "4      970    0.2\n",
       "...    ...    ...\n",
       "2108  1700    0.2\n",
       "2109  1865    0.0\n",
       "2110   478    0.0\n",
       "2111  1227    0.6\n",
       "2112  4538    0.0\n",
       "\n",
       "[2113 rows x 2 columns]"
      ]
     },
     "execution_count": 91,
     "metadata": {},
     "output_type": "execute_result"
    }
   ],
   "source": [
    "sub"
   ]
  },
  {
   "cell_type": "code",
   "execution_count": 92,
   "metadata": {},
   "outputs": [],
   "source": [
    "# сохраним файл с ответом и загрузим его для на kaggle\n",
    "sub.to_csv(\"data_baseline//sub.csv\", index=False)"
   ]
  },
  {
   "cell_type": "markdown",
   "metadata": {},
   "source": [
    "### Перейдем на наше соревнование и загрузим ответ\n",
    "Для этого:\n",
    "1. Нажимаем на Submit Predictions\n",
    "2. Загружаем файл с ответом\n",
    "3. Нажимаем make Submsission\n",
    "4. Показывается наш результат\n",
    "5. Переходим во вкладку Leaderboard, что бы посмотреть на место, которые мы заняли"
   ]
  },
  {
   "cell_type": "markdown",
   "metadata": {},
   "source": [
    "### Советы для улучшения результата\n",
    "1. Построить графики для данных и поискать закономерности \n",
    "2. Нормальная предобработка признаков, отбор признаков, создание новых признаков\n",
    "3. Попробовать другие модели\n",
    "4. Перебор параметров для моделей\n",
    "5. Погуглить про задачу и посмотреть, как люди подходят к решению задачи классификации"
   ]
  },
  {
   "cell_type": "code",
   "execution_count": null,
   "metadata": {},
   "outputs": [],
   "source": []
  }
 ],
 "metadata": {
  "kernelspec": {
   "display_name": "Python 3",
   "language": "python",
   "name": "python3"
  },
  "language_info": {
   "codemirror_mode": {
    "name": "ipython",
    "version": 3
   },
   "file_extension": ".py",
   "mimetype": "text/x-python",
   "name": "python",
   "nbconvert_exporter": "python",
   "pygments_lexer": "ipython3",
   "version": "3.9.2"
  }
 },
 "nbformat": 4,
 "nbformat_minor": 4
}
