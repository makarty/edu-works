{
 "cells": [
  {
   "cell_type": "code",
   "execution_count": 1,
   "metadata": {},
   "outputs": [],
   "source": [
    "import math"
   ]
  },
  {
   "cell_type": "markdown",
   "metadata": {},
   "source": [
    "## Вариант 11\n",
    "\n",
    "f(x) = 4(x - 5)^2 + e^x(x - 6)^2\n",
    "\n",
    "Интервал неопределённости [0,6]."
   ]
  },
  {
   "cell_type": "code",
   "execution_count": 36,
   "metadata": {},
   "outputs": [],
   "source": [
    "f_min = 4\n",
    "point_min = 6"
   ]
  },
  {
   "cell_type": "code",
   "execution_count": 2,
   "metadata": {},
   "outputs": [],
   "source": [
    "def f(x):\n",
    "    return 4 * (x - 5) ** 2 + math.exp(x) * (x - 6) ** 2"
   ]
  },
  {
   "cell_type": "code",
   "execution_count": 14,
   "metadata": {},
   "outputs": [],
   "source": [
    "def fibonacci_number(N):\n",
    "    if not isinstance(N, int):\n",
    "        return \"Число должно быть целым!\"\n",
    "    if N in [0, 1]:\n",
    "        return 1\n",
    "    return fibonacci_number(N - 1) + fibonacci_number(N - 2)"
   ]
  },
  {
   "cell_type": "code",
   "execution_count": 32,
   "metadata": {},
   "outputs": [],
   "source": [
    "def find_min(l=2, epsilon=0.1):\n",
    "    a = 0\n",
    "    b = 6\n",
    "    interval_length = b - a + 1\n",
    "    fib_numbers = [1]\n",
    "    N = 0\n",
    "    k = 0\n",
    "\n",
    "    while True:\n",
    "        N += 1\n",
    "        fib_numbers.append(fibonacci_number(N))\n",
    "        if fibonacci_number(N) >= interval_length / l:\n",
    "            break\n",
    "    \n",
    "    y = a + (fibonacci_number(N - 2) / fibonacci_number(N)) * (b - a)\n",
    "    z = a + (fibonacci_number(N - 1) / fibonacci_number(N)) * (b - a)\n",
    "\n",
    "    while True:\n",
    "        if f(y) <= f(z):\n",
    "            b = z\n",
    "            z = y\n",
    "            y = a + (fibonacci_number(N - k - 3) / fibonacci_number(N - k - 1)) * (b - a)\n",
    "        else:\n",
    "            a = y\n",
    "            y = z\n",
    "            z = a + (fibonacci_number(N - k - 2) / fibonacci_number(N - k - 1)) * (b - a)\n",
    "        if k == N - 3:\n",
    "            y = z\n",
    "            z = y + epsilon\n",
    "            if f(y) <= f(z):\n",
    "                b = z\n",
    "            else:\n",
    "                a = y\n",
    "            x = (a + b) / 2\n",
    "            return x, k\n",
    "        else:\n",
    "            k += 1\n"
   ]
  },
  {
   "cell_type": "code",
   "execution_count": 37,
   "metadata": {},
   "outputs": [],
   "source": [
    "def main():\n",
    "    print(f\"Истинный минимум функции - {f_min} в точке {point_min}\")\n",
    "    l_list = [0.1, 0.5, 1, 2]\n",
    "    e_list = [0.001, 0.1, 0.5, 1]\n",
    "    print(\"Результаты экспериментов:\")\n",
    "    for l in l_list:\n",
    "        for e in e_list:\n",
    "            print(f\"При параметрах l = {l} и e = {e}\")\n",
    "            res, speed = find_min(l, e)\n",
    "            res = round(res, 3)\n",
    "            func_res = round(f(res), 3)\n",
    "            print(f\"Минимум функции - {func_res} в точке {res}\")\n",
    "            print(f\"Посчитан за {speed} операций\\n\")"
   ]
  },
  {
   "cell_type": "code",
   "execution_count": 38,
   "metadata": {},
   "outputs": [
    {
     "name": "stdout",
     "output_type": "stream",
     "text": [
      "Истинный минимум функции - 4 в точке 6\n",
      "Результаты экспериментов:\n",
      "При параметрах l = 0.1 и e = 0.001\n",
      "Минимум функции - 130.523 в точке 0.641\n",
      "Посчитан за 7 операций\n",
      "\n",
      "При параметрах l = 0.1 и e = 0.1\n",
      "Минимум функции - 130.519 в точке 0.69\n",
      "Посчитан за 7 операций\n",
      "\n",
      "При параметрах l = 0.1 и e = 0.5\n",
      "Минимум функции - 131.155 в точке 0.89\n",
      "Посчитан за 7 операций\n",
      "\n",
      "При параметрах l = 0.1 и e = 1\n",
      "Минимум функции - 133.451 в точке 1.14\n",
      "Посчитан за 7 операций\n",
      "\n",
      "При параметрах l = 0.5 и e = 0.001\n",
      "Минимум функции - 130.54 в точке 0.714\n",
      "Посчитан за 4 операций\n",
      "\n",
      "При параметрах l = 0.5 и e = 0.1\n",
      "Минимум функции - 130.54 в точке 0.714\n",
      "Посчитан за 4 операций\n",
      "\n",
      "При параметрах l = 0.5 и e = 0.5\n",
      "Минимум функции - 130.515 в точке 0.679\n",
      "Посчитан за 4 операций\n",
      "\n",
      "При параметрах l = 0.5 и e = 1\n",
      "Минимум функции - 131.402 в точке 0.929\n",
      "Посчитан за 4 операций\n",
      "\n",
      "При параметрах l = 1 и e = 0.001\n",
      "Минимум функции - 131.592 в точке 0.376\n",
      "Посчитан за 2 операций\n",
      "\n",
      "При параметрах l = 1 и e = 0.1\n",
      "Минимум функции - 131.263 в точке 0.425\n",
      "Посчитан за 2 операций\n",
      "\n",
      "При параметрах l = 1 и e = 0.5\n",
      "Минимум функции - 130.537 в точке 0.625\n",
      "Посчитан за 2 операций\n",
      "\n",
      "При параметрах l = 1 и e = 1\n",
      "Минимум функции - 131.07 в точке 0.875\n",
      "Посчитан за 2 операций\n",
      "\n",
      "При параметрах l = 2 и e = 0.001\n",
      "Минимум функции - 130.573 в точке 0.6\n",
      "Посчитан за 1 операций\n",
      "\n",
      "При параметрах l = 2 и e = 0.1\n",
      "Минимум функции - 130.518 в точке 0.65\n",
      "Посчитан за 1 операций\n",
      "\n",
      "При параметрах l = 2 и e = 0.5\n",
      "Минимум функции - 130.943 в точке 0.85\n",
      "Посчитан за 1 операций\n",
      "\n",
      "При параметрах l = 2 и e = 1\n",
      "Минимум функции - 132.97 в точке 1.1\n",
      "Посчитан за 1 операций\n",
      "\n"
     ]
    }
   ],
   "source": [
    "main()"
   ]
  }
 ],
 "metadata": {
  "kernelspec": {
   "display_name": "Python 3.10.0 64-bit",
   "language": "python",
   "name": "python3"
  },
  "language_info": {
   "codemirror_mode": {
    "name": "ipython",
    "version": 3
   },
   "file_extension": ".py",
   "mimetype": "text/x-python",
   "name": "python",
   "nbconvert_exporter": "python",
   "pygments_lexer": "ipython3",
   "version": "3.10.0"
  },
  "orig_nbformat": 4,
  "vscode": {
   "interpreter": {
    "hash": "fb4569285eef3a3450cb62085a5b1e0da4bce0af555edc33dcf29baf3acc1368"
   }
  }
 },
 "nbformat": 4,
 "nbformat_minor": 2
}
